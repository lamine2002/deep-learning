{
  "cells": [
    {
      "cell_type": "markdown",
      "metadata": {
        "id": "3_zgXUdciGmh"
      },
      "source": [
        "### Rappel Google Colab\n",
        "\n",
        "Tout d'abord, sélectionnez l'option GPU de Colab avec *Edit > Notebook settings* et sélectionner GPU comme Hardware accelerator.\n",
        "Installer ensuite deeplib avec la commande suivante:"
      ]
    },
    {
      "cell_type": "code",
      "execution_count": 1,
      "metadata": {
        "id": "vQ8niCvNiGmk",
        "outputId": "11c8dbc7-cee3-4b2a-d7e8-de53adf68d17",
        "colab": {
          "base_uri": "https://localhost:8080/"
        }
      },
      "outputs": [
        {
          "output_type": "stream",
          "name": "stdout",
          "text": [
            "Collecting git+https://github.com/ulaval-damas/glo4030-labs.git\n",
            "  Cloning https://github.com/ulaval-damas/glo4030-labs.git to /tmp/pip-req-build-tq31ee1n\n",
            "  Running command git clone --filter=blob:none --quiet https://github.com/ulaval-damas/glo4030-labs.git /tmp/pip-req-build-tq31ee1n\n",
            "  Resolved https://github.com/ulaval-damas/glo4030-labs.git to commit 77a2594181ee3c89005c2bc0669ee3007f565568\n",
            "  Preparing metadata (setup.py) ... \u001b[?25l\u001b[?25hdone\n",
            "Requirement already satisfied: torch in /usr/local/lib/python3.11/dist-packages (from deeplib==0.1) (2.5.1+cu124)\n",
            "Requirement already satisfied: torchvision in /usr/local/lib/python3.11/dist-packages (from deeplib==0.1) (0.20.1+cu124)\n",
            "Requirement already satisfied: pandas in /usr/local/lib/python3.11/dist-packages (from deeplib==0.1) (2.2.2)\n",
            "Requirement already satisfied: ipykernel in /usr/local/lib/python3.11/dist-packages (from deeplib==0.1) (5.5.6)\n",
            "Requirement already satisfied: matplotlib in /usr/local/lib/python3.11/dist-packages (from deeplib==0.1) (3.10.0)\n",
            "Requirement already satisfied: scikit-learn in /usr/local/lib/python3.11/dist-packages (from deeplib==0.1) (1.6.1)\n",
            "Requirement already satisfied: graphviz in /usr/local/lib/python3.11/dist-packages (from deeplib==0.1) (0.20.3)\n",
            "Requirement already satisfied: ipython in /usr/local/lib/python3.11/dist-packages (from deeplib==0.1) (7.34.0)\n",
            "Requirement already satisfied: gensim in /usr/local/lib/python3.11/dist-packages (from deeplib==0.1) (4.3.3)\n",
            "Requirement already satisfied: numpy in /usr/local/lib/python3.11/dist-packages (from deeplib==0.1) (1.26.4)\n",
            "Requirement already satisfied: scipy in /usr/local/lib/python3.11/dist-packages (from deeplib==0.1) (1.13.1)\n",
            "Requirement already satisfied: Pillow in /usr/local/lib/python3.11/dist-packages (from deeplib==0.1) (11.1.0)\n",
            "Collecting poutyne (from deeplib==0.1)\n",
            "  Downloading Poutyne-1.17.3-py3-none-any.whl.metadata (13 kB)\n",
            "Requirement already satisfied: einops in /usr/local/lib/python3.11/dist-packages (from deeplib==0.1) (0.8.0)\n",
            "Requirement already satisfied: transformers[torch] in /usr/local/lib/python3.11/dist-packages (from deeplib==0.1) (4.47.1)\n",
            "Requirement already satisfied: smart-open>=1.8.1 in /usr/local/lib/python3.11/dist-packages (from gensim->deeplib==0.1) (7.1.0)\n",
            "Requirement already satisfied: ipython-genutils in /usr/local/lib/python3.11/dist-packages (from ipykernel->deeplib==0.1) (0.2.0)\n",
            "Requirement already satisfied: traitlets>=4.1.0 in /usr/local/lib/python3.11/dist-packages (from ipykernel->deeplib==0.1) (5.7.1)\n",
            "Requirement already satisfied: jupyter-client in /usr/local/lib/python3.11/dist-packages (from ipykernel->deeplib==0.1) (6.1.12)\n",
            "Requirement already satisfied: tornado>=4.2 in /usr/local/lib/python3.11/dist-packages (from ipykernel->deeplib==0.1) (6.4.2)\n",
            "Requirement already satisfied: setuptools>=18.5 in /usr/local/lib/python3.11/dist-packages (from ipython->deeplib==0.1) (75.1.0)\n",
            "Collecting jedi>=0.16 (from ipython->deeplib==0.1)\n",
            "  Downloading jedi-0.19.2-py2.py3-none-any.whl.metadata (22 kB)\n",
            "Requirement already satisfied: decorator in /usr/local/lib/python3.11/dist-packages (from ipython->deeplib==0.1) (4.4.2)\n",
            "Requirement already satisfied: pickleshare in /usr/local/lib/python3.11/dist-packages (from ipython->deeplib==0.1) (0.7.5)\n",
            "Requirement already satisfied: prompt-toolkit!=3.0.0,!=3.0.1,<3.1.0,>=2.0.0 in /usr/local/lib/python3.11/dist-packages (from ipython->deeplib==0.1) (3.0.50)\n",
            "Requirement already satisfied: pygments in /usr/local/lib/python3.11/dist-packages (from ipython->deeplib==0.1) (2.18.0)\n",
            "Requirement already satisfied: backcall in /usr/local/lib/python3.11/dist-packages (from ipython->deeplib==0.1) (0.2.0)\n",
            "Requirement already satisfied: matplotlib-inline in /usr/local/lib/python3.11/dist-packages (from ipython->deeplib==0.1) (0.1.7)\n",
            "Requirement already satisfied: pexpect>4.3 in /usr/local/lib/python3.11/dist-packages (from ipython->deeplib==0.1) (4.9.0)\n",
            "Requirement already satisfied: contourpy>=1.0.1 in /usr/local/lib/python3.11/dist-packages (from matplotlib->deeplib==0.1) (1.3.1)\n",
            "Requirement already satisfied: cycler>=0.10 in /usr/local/lib/python3.11/dist-packages (from matplotlib->deeplib==0.1) (0.12.1)\n",
            "Requirement already satisfied: fonttools>=4.22.0 in /usr/local/lib/python3.11/dist-packages (from matplotlib->deeplib==0.1) (4.55.7)\n",
            "Requirement already satisfied: kiwisolver>=1.3.1 in /usr/local/lib/python3.11/dist-packages (from matplotlib->deeplib==0.1) (1.4.8)\n",
            "Requirement already satisfied: packaging>=20.0 in /usr/local/lib/python3.11/dist-packages (from matplotlib->deeplib==0.1) (24.2)\n",
            "Requirement already satisfied: pyparsing>=2.3.1 in /usr/local/lib/python3.11/dist-packages (from matplotlib->deeplib==0.1) (3.2.1)\n",
            "Requirement already satisfied: python-dateutil>=2.7 in /usr/local/lib/python3.11/dist-packages (from matplotlib->deeplib==0.1) (2.8.2)\n",
            "Requirement already satisfied: pytz>=2020.1 in /usr/local/lib/python3.11/dist-packages (from pandas->deeplib==0.1) (2024.2)\n",
            "Requirement already satisfied: tzdata>=2022.7 in /usr/local/lib/python3.11/dist-packages (from pandas->deeplib==0.1) (2025.1)\n",
            "Collecting torchmetrics (from poutyne->deeplib==0.1)\n",
            "  Downloading torchmetrics-1.6.1-py3-none-any.whl.metadata (21 kB)\n",
            "Requirement already satisfied: joblib>=1.2.0 in /usr/local/lib/python3.11/dist-packages (from scikit-learn->deeplib==0.1) (1.4.2)\n",
            "Requirement already satisfied: threadpoolctl>=3.1.0 in /usr/local/lib/python3.11/dist-packages (from scikit-learn->deeplib==0.1) (3.5.0)\n",
            "Requirement already satisfied: filelock in /usr/local/lib/python3.11/dist-packages (from torch->deeplib==0.1) (3.17.0)\n",
            "Requirement already satisfied: typing-extensions>=4.8.0 in /usr/local/lib/python3.11/dist-packages (from torch->deeplib==0.1) (4.12.2)\n",
            "Requirement already satisfied: networkx in /usr/local/lib/python3.11/dist-packages (from torch->deeplib==0.1) (3.4.2)\n",
            "Requirement already satisfied: jinja2 in /usr/local/lib/python3.11/dist-packages (from torch->deeplib==0.1) (3.1.5)\n",
            "Requirement already satisfied: fsspec in /usr/local/lib/python3.11/dist-packages (from torch->deeplib==0.1) (2024.10.0)\n",
            "Collecting nvidia-cuda-nvrtc-cu12==12.4.127 (from torch->deeplib==0.1)\n",
            "  Downloading nvidia_cuda_nvrtc_cu12-12.4.127-py3-none-manylinux2014_x86_64.whl.metadata (1.5 kB)\n",
            "Collecting nvidia-cuda-runtime-cu12==12.4.127 (from torch->deeplib==0.1)\n",
            "  Downloading nvidia_cuda_runtime_cu12-12.4.127-py3-none-manylinux2014_x86_64.whl.metadata (1.5 kB)\n",
            "Collecting nvidia-cuda-cupti-cu12==12.4.127 (from torch->deeplib==0.1)\n",
            "  Downloading nvidia_cuda_cupti_cu12-12.4.127-py3-none-manylinux2014_x86_64.whl.metadata (1.6 kB)\n",
            "Collecting nvidia-cudnn-cu12==9.1.0.70 (from torch->deeplib==0.1)\n",
            "  Downloading nvidia_cudnn_cu12-9.1.0.70-py3-none-manylinux2014_x86_64.whl.metadata (1.6 kB)\n",
            "Collecting nvidia-cublas-cu12==12.4.5.8 (from torch->deeplib==0.1)\n",
            "  Downloading nvidia_cublas_cu12-12.4.5.8-py3-none-manylinux2014_x86_64.whl.metadata (1.5 kB)\n",
            "Collecting nvidia-cufft-cu12==11.2.1.3 (from torch->deeplib==0.1)\n",
            "  Downloading nvidia_cufft_cu12-11.2.1.3-py3-none-manylinux2014_x86_64.whl.metadata (1.5 kB)\n",
            "Collecting nvidia-curand-cu12==10.3.5.147 (from torch->deeplib==0.1)\n",
            "  Downloading nvidia_curand_cu12-10.3.5.147-py3-none-manylinux2014_x86_64.whl.metadata (1.5 kB)\n",
            "Collecting nvidia-cusolver-cu12==11.6.1.9 (from torch->deeplib==0.1)\n",
            "  Downloading nvidia_cusolver_cu12-11.6.1.9-py3-none-manylinux2014_x86_64.whl.metadata (1.6 kB)\n",
            "Collecting nvidia-cusparse-cu12==12.3.1.170 (from torch->deeplib==0.1)\n",
            "  Downloading nvidia_cusparse_cu12-12.3.1.170-py3-none-manylinux2014_x86_64.whl.metadata (1.6 kB)\n",
            "Requirement already satisfied: nvidia-nccl-cu12==2.21.5 in /usr/local/lib/python3.11/dist-packages (from torch->deeplib==0.1) (2.21.5)\n",
            "Requirement already satisfied: nvidia-nvtx-cu12==12.4.127 in /usr/local/lib/python3.11/dist-packages (from torch->deeplib==0.1) (12.4.127)\n",
            "Collecting nvidia-nvjitlink-cu12==12.4.127 (from torch->deeplib==0.1)\n",
            "  Downloading nvidia_nvjitlink_cu12-12.4.127-py3-none-manylinux2014_x86_64.whl.metadata (1.5 kB)\n",
            "Requirement already satisfied: triton==3.1.0 in /usr/local/lib/python3.11/dist-packages (from torch->deeplib==0.1) (3.1.0)\n",
            "Requirement already satisfied: sympy==1.13.1 in /usr/local/lib/python3.11/dist-packages (from torch->deeplib==0.1) (1.13.1)\n",
            "Requirement already satisfied: mpmath<1.4,>=1.1.0 in /usr/local/lib/python3.11/dist-packages (from sympy==1.13.1->torch->deeplib==0.1) (1.3.0)\n",
            "Requirement already satisfied: huggingface-hub<1.0,>=0.24.0 in /usr/local/lib/python3.11/dist-packages (from transformers[torch]->deeplib==0.1) (0.27.1)\n",
            "Requirement already satisfied: pyyaml>=5.1 in /usr/local/lib/python3.11/dist-packages (from transformers[torch]->deeplib==0.1) (6.0.2)\n",
            "Requirement already satisfied: regex!=2019.12.17 in /usr/local/lib/python3.11/dist-packages (from transformers[torch]->deeplib==0.1) (2024.11.6)\n",
            "Requirement already satisfied: requests in /usr/local/lib/python3.11/dist-packages (from transformers[torch]->deeplib==0.1) (2.32.3)\n",
            "Requirement already satisfied: tokenizers<0.22,>=0.21 in /usr/local/lib/python3.11/dist-packages (from transformers[torch]->deeplib==0.1) (0.21.0)\n",
            "Requirement already satisfied: safetensors>=0.4.1 in /usr/local/lib/python3.11/dist-packages (from transformers[torch]->deeplib==0.1) (0.5.2)\n",
            "Requirement already satisfied: tqdm>=4.27 in /usr/local/lib/python3.11/dist-packages (from transformers[torch]->deeplib==0.1) (4.67.1)\n",
            "Requirement already satisfied: accelerate>=0.26.0 in /usr/local/lib/python3.11/dist-packages (from transformers[torch]->deeplib==0.1) (1.2.1)\n",
            "Requirement already satisfied: psutil in /usr/local/lib/python3.11/dist-packages (from accelerate>=0.26.0->transformers[torch]->deeplib==0.1) (5.9.5)\n",
            "Requirement already satisfied: parso<0.9.0,>=0.8.4 in /usr/local/lib/python3.11/dist-packages (from jedi>=0.16->ipython->deeplib==0.1) (0.8.4)\n",
            "Requirement already satisfied: ptyprocess>=0.5 in /usr/local/lib/python3.11/dist-packages (from pexpect>4.3->ipython->deeplib==0.1) (0.7.0)\n",
            "Requirement already satisfied: wcwidth in /usr/local/lib/python3.11/dist-packages (from prompt-toolkit!=3.0.0,!=3.0.1,<3.1.0,>=2.0.0->ipython->deeplib==0.1) (0.2.13)\n",
            "Requirement already satisfied: six>=1.5 in /usr/local/lib/python3.11/dist-packages (from python-dateutil>=2.7->matplotlib->deeplib==0.1) (1.17.0)\n",
            "Requirement already satisfied: wrapt in /usr/local/lib/python3.11/dist-packages (from smart-open>=1.8.1->gensim->deeplib==0.1) (1.17.2)\n",
            "Requirement already satisfied: MarkupSafe>=2.0 in /usr/local/lib/python3.11/dist-packages (from jinja2->torch->deeplib==0.1) (3.0.2)\n",
            "Requirement already satisfied: jupyter-core>=4.6.0 in /usr/local/lib/python3.11/dist-packages (from jupyter-client->ipykernel->deeplib==0.1) (5.7.2)\n",
            "Requirement already satisfied: pyzmq>=13 in /usr/local/lib/python3.11/dist-packages (from jupyter-client->ipykernel->deeplib==0.1) (24.0.1)\n",
            "Requirement already satisfied: charset-normalizer<4,>=2 in /usr/local/lib/python3.11/dist-packages (from requests->transformers[torch]->deeplib==0.1) (3.4.1)\n",
            "Requirement already satisfied: idna<4,>=2.5 in /usr/local/lib/python3.11/dist-packages (from requests->transformers[torch]->deeplib==0.1) (3.10)\n",
            "Requirement already satisfied: urllib3<3,>=1.21.1 in /usr/local/lib/python3.11/dist-packages (from requests->transformers[torch]->deeplib==0.1) (2.3.0)\n",
            "Requirement already satisfied: certifi>=2017.4.17 in /usr/local/lib/python3.11/dist-packages (from requests->transformers[torch]->deeplib==0.1) (2024.12.14)\n",
            "Collecting lightning-utilities>=0.8.0 (from torchmetrics->poutyne->deeplib==0.1)\n",
            "  Downloading lightning_utilities-0.12.0-py3-none-any.whl.metadata (5.6 kB)\n",
            "Requirement already satisfied: platformdirs>=2.5 in /usr/local/lib/python3.11/dist-packages (from jupyter-core>=4.6.0->jupyter-client->ipykernel->deeplib==0.1) (4.3.6)\n",
            "Downloading Poutyne-1.17.3-py3-none-any.whl (214 kB)\n",
            "\u001b[2K   \u001b[90m━━━━━━━━━━━━━━━━━━━━━━━━━━━━━━━━━━━━━━━━\u001b[0m \u001b[32m214.2/214.2 kB\u001b[0m \u001b[31m8.4 MB/s\u001b[0m eta \u001b[36m0:00:00\u001b[0m\n",
            "\u001b[?25hDownloading nvidia_cublas_cu12-12.4.5.8-py3-none-manylinux2014_x86_64.whl (363.4 MB)\n",
            "\u001b[2K   \u001b[90m━━━━━━━━━━━━━━━━━━━━━━━━━━━━━━━━━━━━━━━━\u001b[0m \u001b[32m363.4/363.4 MB\u001b[0m \u001b[31m2.1 MB/s\u001b[0m eta \u001b[36m0:00:00\u001b[0m\n",
            "\u001b[?25hDownloading nvidia_cuda_cupti_cu12-12.4.127-py3-none-manylinux2014_x86_64.whl (13.8 MB)\n",
            "\u001b[2K   \u001b[90m━━━━━━━━━━━━━━━━━━━━━━━━━━━━━━━━━━━━━━━━\u001b[0m \u001b[32m13.8/13.8 MB\u001b[0m \u001b[31m110.1 MB/s\u001b[0m eta \u001b[36m0:00:00\u001b[0m\n",
            "\u001b[?25hDownloading nvidia_cuda_nvrtc_cu12-12.4.127-py3-none-manylinux2014_x86_64.whl (24.6 MB)\n",
            "\u001b[2K   \u001b[90m━━━━━━━━━━━━━━━━━━━━━━━━━━━━━━━━━━━━━━━━\u001b[0m \u001b[32m24.6/24.6 MB\u001b[0m \u001b[31m85.6 MB/s\u001b[0m eta \u001b[36m0:00:00\u001b[0m\n",
            "\u001b[?25hDownloading nvidia_cuda_runtime_cu12-12.4.127-py3-none-manylinux2014_x86_64.whl (883 kB)\n",
            "\u001b[2K   \u001b[90m━━━━━━━━━━━━━━━━━━━━━━━━━━━━━━━━━━━━━━━━\u001b[0m \u001b[32m883.7/883.7 kB\u001b[0m \u001b[31m53.8 MB/s\u001b[0m eta \u001b[36m0:00:00\u001b[0m\n",
            "\u001b[?25hDownloading nvidia_cudnn_cu12-9.1.0.70-py3-none-manylinux2014_x86_64.whl (664.8 MB)\n",
            "\u001b[2K   \u001b[90m━━━━━━━━━━━━━━━━━━━━━━━━━━━━━━━━━━━━━━━━\u001b[0m \u001b[32m664.8/664.8 MB\u001b[0m \u001b[31m2.0 MB/s\u001b[0m eta \u001b[36m0:00:00\u001b[0m\n",
            "\u001b[?25hDownloading nvidia_cufft_cu12-11.2.1.3-py3-none-manylinux2014_x86_64.whl (211.5 MB)\n",
            "\u001b[2K   \u001b[90m━━━━━━━━━━━━━━━━━━━━━━━━━━━━━━━━━━━━━━━━\u001b[0m \u001b[32m211.5/211.5 MB\u001b[0m \u001b[31m5.4 MB/s\u001b[0m eta \u001b[36m0:00:00\u001b[0m\n",
            "\u001b[?25hDownloading nvidia_curand_cu12-10.3.5.147-py3-none-manylinux2014_x86_64.whl (56.3 MB)\n",
            "\u001b[2K   \u001b[90m━━━━━━━━━━━━━━━━━━━━━━━━━━━━━━━━━━━━━━━━\u001b[0m \u001b[32m56.3/56.3 MB\u001b[0m \u001b[31m12.1 MB/s\u001b[0m eta \u001b[36m0:00:00\u001b[0m\n",
            "\u001b[?25hDownloading nvidia_cusolver_cu12-11.6.1.9-py3-none-manylinux2014_x86_64.whl (127.9 MB)\n",
            "\u001b[2K   \u001b[90m━━━━━━━━━━━━━━━━━━━━━━━━━━━━━━━━━━━━━━━━\u001b[0m \u001b[32m127.9/127.9 MB\u001b[0m \u001b[31m7.3 MB/s\u001b[0m eta \u001b[36m0:00:00\u001b[0m\n",
            "\u001b[?25hDownloading nvidia_cusparse_cu12-12.3.1.170-py3-none-manylinux2014_x86_64.whl (207.5 MB)\n",
            "\u001b[2K   \u001b[90m━━━━━━━━━━━━━━━━━━━━━━━━━━━━━━━━━━━━━━━━\u001b[0m \u001b[32m207.5/207.5 MB\u001b[0m \u001b[31m5.4 MB/s\u001b[0m eta \u001b[36m0:00:00\u001b[0m\n",
            "\u001b[?25hDownloading nvidia_nvjitlink_cu12-12.4.127-py3-none-manylinux2014_x86_64.whl (21.1 MB)\n",
            "\u001b[2K   \u001b[90m━━━━━━━━━━━━━━━━━━━━━━━━━━━━━━━━━━━━━━━━\u001b[0m \u001b[32m21.1/21.1 MB\u001b[0m \u001b[31m65.2 MB/s\u001b[0m eta \u001b[36m0:00:00\u001b[0m\n",
            "\u001b[?25hDownloading jedi-0.19.2-py2.py3-none-any.whl (1.6 MB)\n",
            "\u001b[2K   \u001b[90m━━━━━━━━━━━━━━━━━━━━━━━━━━━━━━━━━━━━━━━━\u001b[0m \u001b[32m1.6/1.6 MB\u001b[0m \u001b[31m59.9 MB/s\u001b[0m eta \u001b[36m0:00:00\u001b[0m\n",
            "\u001b[?25hDownloading torchmetrics-1.6.1-py3-none-any.whl (927 kB)\n",
            "\u001b[2K   \u001b[90m━━━━━━━━━━━━━━━━━━━━━━━━━━━━━━━━━━━━━━━━\u001b[0m \u001b[32m927.3/927.3 kB\u001b[0m \u001b[31m45.4 MB/s\u001b[0m eta \u001b[36m0:00:00\u001b[0m\n",
            "\u001b[?25hDownloading lightning_utilities-0.12.0-py3-none-any.whl (28 kB)\n",
            "Building wheels for collected packages: deeplib\n",
            "  Building wheel for deeplib (setup.py) ... \u001b[?25l\u001b[?25hdone\n",
            "  Created wheel for deeplib: filename=deeplib-0.1-py3-none-any.whl size=10542 sha256=31e38ccd6b29982e6e14735fcfeeebf8339b82fb29d24f17c663ac8eb18b56ed\n",
            "  Stored in directory: /tmp/pip-ephem-wheel-cache-el01kezd/wheels/56/5a/53/3d381f25aafdaebd85896558544b1276d4905e940af16ec024\n",
            "Successfully built deeplib\n",
            "Installing collected packages: nvidia-nvjitlink-cu12, nvidia-curand-cu12, nvidia-cufft-cu12, nvidia-cuda-runtime-cu12, nvidia-cuda-nvrtc-cu12, nvidia-cuda-cupti-cu12, nvidia-cublas-cu12, lightning-utilities, jedi, nvidia-cusparse-cu12, nvidia-cudnn-cu12, nvidia-cusolver-cu12, torchmetrics, poutyne, deeplib\n",
            "  Attempting uninstall: nvidia-nvjitlink-cu12\n",
            "    Found existing installation: nvidia-nvjitlink-cu12 12.5.82\n",
            "    Uninstalling nvidia-nvjitlink-cu12-12.5.82:\n",
            "      Successfully uninstalled nvidia-nvjitlink-cu12-12.5.82\n",
            "  Attempting uninstall: nvidia-curand-cu12\n",
            "    Found existing installation: nvidia-curand-cu12 10.3.6.82\n",
            "    Uninstalling nvidia-curand-cu12-10.3.6.82:\n",
            "      Successfully uninstalled nvidia-curand-cu12-10.3.6.82\n",
            "  Attempting uninstall: nvidia-cufft-cu12\n",
            "    Found existing installation: nvidia-cufft-cu12 11.2.3.61\n",
            "    Uninstalling nvidia-cufft-cu12-11.2.3.61:\n",
            "      Successfully uninstalled nvidia-cufft-cu12-11.2.3.61\n",
            "  Attempting uninstall: nvidia-cuda-runtime-cu12\n",
            "    Found existing installation: nvidia-cuda-runtime-cu12 12.5.82\n",
            "    Uninstalling nvidia-cuda-runtime-cu12-12.5.82:\n",
            "      Successfully uninstalled nvidia-cuda-runtime-cu12-12.5.82\n",
            "  Attempting uninstall: nvidia-cuda-nvrtc-cu12\n",
            "    Found existing installation: nvidia-cuda-nvrtc-cu12 12.5.82\n",
            "    Uninstalling nvidia-cuda-nvrtc-cu12-12.5.82:\n",
            "      Successfully uninstalled nvidia-cuda-nvrtc-cu12-12.5.82\n",
            "  Attempting uninstall: nvidia-cuda-cupti-cu12\n",
            "    Found existing installation: nvidia-cuda-cupti-cu12 12.5.82\n",
            "    Uninstalling nvidia-cuda-cupti-cu12-12.5.82:\n",
            "      Successfully uninstalled nvidia-cuda-cupti-cu12-12.5.82\n",
            "  Attempting uninstall: nvidia-cublas-cu12\n",
            "    Found existing installation: nvidia-cublas-cu12 12.5.3.2\n",
            "    Uninstalling nvidia-cublas-cu12-12.5.3.2:\n",
            "      Successfully uninstalled nvidia-cublas-cu12-12.5.3.2\n",
            "  Attempting uninstall: nvidia-cusparse-cu12\n",
            "    Found existing installation: nvidia-cusparse-cu12 12.5.1.3\n",
            "    Uninstalling nvidia-cusparse-cu12-12.5.1.3:\n",
            "      Successfully uninstalled nvidia-cusparse-cu12-12.5.1.3\n",
            "  Attempting uninstall: nvidia-cudnn-cu12\n",
            "    Found existing installation: nvidia-cudnn-cu12 9.3.0.75\n",
            "    Uninstalling nvidia-cudnn-cu12-9.3.0.75:\n",
            "      Successfully uninstalled nvidia-cudnn-cu12-9.3.0.75\n",
            "  Attempting uninstall: nvidia-cusolver-cu12\n",
            "    Found existing installation: nvidia-cusolver-cu12 11.6.3.83\n",
            "    Uninstalling nvidia-cusolver-cu12-11.6.3.83:\n",
            "      Successfully uninstalled nvidia-cusolver-cu12-11.6.3.83\n",
            "Successfully installed deeplib-0.1 jedi-0.19.2 lightning-utilities-0.12.0 nvidia-cublas-cu12-12.4.5.8 nvidia-cuda-cupti-cu12-12.4.127 nvidia-cuda-nvrtc-cu12-12.4.127 nvidia-cuda-runtime-cu12-12.4.127 nvidia-cudnn-cu12-9.1.0.70 nvidia-cufft-cu12-11.2.1.3 nvidia-curand-cu12-10.3.5.147 nvidia-cusolver-cu12-11.6.1.9 nvidia-cusparse-cu12-12.3.1.170 nvidia-nvjitlink-cu12-12.4.127 poutyne-1.17.3 torchmetrics-1.6.1\n"
          ]
        }
      ],
      "source": [
        "!pip install git+https://github.com/ulaval-damas/glo4030-labs.git"
      ]
    },
    {
      "cell_type": "markdown",
      "metadata": {
        "id": "vpWBhsCViGml"
      },
      "source": [
        "# Laboratoire 2: Graphe computationnel, backprop et fonctions d'activation"
      ]
    },
    {
      "cell_type": "code",
      "execution_count": 2,
      "metadata": {
        "id": "yjzOKct7iGml"
      },
      "outputs": [],
      "source": [
        "%load_ext autoreload\n",
        "%autoreload 2\n",
        "%matplotlib inline\n",
        "\n",
        "import math\n",
        "import numpy as np\n",
        "import matplotlib\n",
        "import matplotlib.pyplot as plt\n",
        "\n",
        "import torch\n",
        "import torch.nn as nn\n",
        "import torch.nn.functional as F\n",
        "from deeplib.visualization import make_vizualization_autograd"
      ]
    },
    {
      "cell_type": "markdown",
      "metadata": {
        "id": "Uj-qcFVCiGml"
      },
      "source": [
        "##  Partie 1: Graphe computationnel et backprop\n",
        "Cette section a pour but de vous familiariser avec les notions de graphe computationnel et de backpropagation, plus particulièrement leur implémentation PyTorch. Dans le dernier laboratoire, vous avez vu une version haut-niveau de l'entraînement de réseaux de neurones. À l'inverse, ce laboratoire a pour but de vous donner une intuition du fonctionnement interne de PyTorch.\n",
        "### Tenseurs\n",
        "La structure de données de base dans PyTorch est le `Tensor`. Cette structure de données est comparable au `ndarray` numpy, avec l'avantage que les calculs matriciels peuvent être effectués sur GPU. Le package `torch.Tensor` définit des matrices multidimensionnelles et les opérations sur celles-ci. Voici quelques exemples:"
      ]
    },
    {
      "cell_type": "markdown",
      "metadata": {
        "id": "cari6v8wiGmm"
      },
      "source": [
        "On peut créer un nouveau `Tensor` de dimension $3 \\times 3$ sans initialisation avec `torch.Tensor()` ou `torch.empty()`. Cependant, les valeurs déjà présentes dans la mémoire allouée sont utilisées comme valeurs initiales et peuvent donc contenir des NaN."
      ]
    },
    {
      "cell_type": "code",
      "execution_count": null,
      "metadata": {
        "id": "HUFtQbb_iGmm"
      },
      "outputs": [],
      "source": [
        "print(torch.Tensor(3, 3))\n",
        "print(torch.empty(3, 3))"
      ]
    },
    {
      "cell_type": "markdown",
      "metadata": {
        "id": "3dT5u9y4iGmn"
      },
      "source": [
        "Il est possible d'initialiser un `Tensor` avec des valeurs plus utiles, comme par exemple avec des valeurs de 0 ou 1, ou encore pour obtenir une matrice identité."
      ]
    },
    {
      "cell_type": "code",
      "execution_count": null,
      "metadata": {
        "id": "_tFTTtLaiGmn"
      },
      "outputs": [],
      "source": [
        "print(torch.zeros(3, 3))\n",
        "print(torch.ones(3, 3))\n",
        "print(torch.eye(3))"
      ]
    },
    {
      "cell_type": "markdown",
      "metadata": {
        "id": "fFjfGbyRiGmn"
      },
      "source": [
        "On peut également créer un `Tensor` à partir de données existantes fournies explicitement ou à partir de structures de `numpy`."
      ]
    },
    {
      "cell_type": "code",
      "execution_count": null,
      "metadata": {
        "id": "MjxvrwUWiGmo"
      },
      "outputs": [],
      "source": [
        "print(torch.tensor([1, 2, 3]))\n",
        "a = np.array([0.1, 0.25, 0.5])\n",
        "print(a, type(a))\n",
        "a = torch.from_numpy(a)\n",
        "print(a, type(a))\n",
        "a = a.numpy()\n",
        "print(a, type(a))"
      ]
    },
    {
      "cell_type": "markdown",
      "metadata": {
        "id": "DPLNFMi2iGmo"
      },
      "source": [
        "Il est souvent nécessaire d'initialiser un `Tensor` avec des valeurs aléatoires, comme par exemple selon une normale centrée à 0 et de variance 1."
      ]
    },
    {
      "cell_type": "code",
      "execution_count": null,
      "metadata": {
        "id": "CLwxL6P2iGmo"
      },
      "outputs": [],
      "source": [
        "a = torch.randn(3, 3)\n",
        "print(a)\n",
        "print(torch.mean(a))\n",
        "print(torch.var(a))"
      ]
    },
    {
      "cell_type": "markdown",
      "metadata": {
        "id": "-M01WjhZiGmo"
      },
      "source": [
        "On peut également d'initialiser les valeurs d'un `Tensor` déjà existant avec des fonctions comme `normal_()` et `fill_()`. À noter, une méthode se terminant par un trait de soulignement (underscore) signifie que cette méthode fait une mutation du `Tensor`."
      ]
    },
    {
      "cell_type": "code",
      "execution_count": null,
      "metadata": {
        "id": "-UMclU20iGmo"
      },
      "outputs": [],
      "source": [
        "a, b = torch.empty(3, 3), torch.empty(3, 1)\n",
        "print(a)\n",
        "print(b)\n",
        "a.normal_()\n",
        "b.fill_(1)\n",
        "print(a)\n",
        "print(b)"
      ]
    },
    {
      "cell_type": "markdown",
      "metadata": {
        "id": "IZhy9dLqiGmo"
      },
      "source": [
        "Les opérations matricielles s'effectuent naturellement sur les `Tensor`."
      ]
    },
    {
      "cell_type": "code",
      "execution_count": null,
      "metadata": {
        "id": "AuzyP47IiGmo"
      },
      "outputs": [],
      "source": [
        "print(a.matmul(b))\n",
        "print(torch.matmul(a, b))"
      ]
    },
    {
      "cell_type": "markdown",
      "metadata": {
        "id": "Q_MBLlM1iGmp"
      },
      "source": [
        "On peut facilement transférer un `Tensor` sur GPU (*Attention: une erreur est soulevée si on tente cette opération sur un ordinateur qui ne possède pas de carte graphique compatible avec les installations requises comme CUDA*). Les opérations sur ces `Tensor` seront alors exécutées sur GPU. On utilise la fonction [`.cuda()`](https://pytorch.org/docs/stable/tensors.html?highlight=cuda#torch.Tensor.cuda) pour envoyer un `Tensor` sur GPU et la fonction [`.cpu()`](https://pytorch.org/docs/stable/tensors.html?highlight=cpu#torch.Tensor.cpu) pour rapporter un `Tensor` vers le CPU."
      ]
    },
    {
      "cell_type": "code",
      "execution_count": null,
      "metadata": {
        "id": "jsqQ701RiGmp"
      },
      "outputs": [],
      "source": [
        "a_gpu = a.cuda()\n",
        "b_gpu = b.cuda()\n",
        "print(a_gpu.matmul(b_gpu))\n",
        "print(a_gpu.matmul(b_gpu).cpu())"
      ]
    },
    {
      "cell_type": "markdown",
      "metadata": {
        "id": "s_8dJ4iciGmp"
      },
      "source": [
        "##### Exercice\n",
        " - Corrigez la deuxième opération pour multiplier `a` avec `c_gpu` sur CPU."
      ]
    },
    {
      "cell_type": "code",
      "execution_count": null,
      "metadata": {
        "id": "cqjrQlS0iGmp"
      },
      "outputs": [],
      "source": [
        "c_gpu = a_gpu.matmul(b_gpu)\n",
        "# TODO Corrigez le code suivant\n",
        "print(a.matmul(c_gpu))"
      ]
    },
    {
      "cell_type": "markdown",
      "metadata": {
        "id": "-FXiEVu_iGmp"
      },
      "source": [
        "### Gradient et rétropropagation (backpropagation)\n",
        "\n",
        "Grâce au package `torch.autograd`, il est possible d'automatiquement calculer la dérivée de fonctions calculées à partir d'opérations sur les tenseurs. PyTorch construit dynamiquement un graphe de calcul indiquant les liens de dépendance entre les tenseurs et les opérations, ce qui permet la backpropagation.\n",
        "\n",
        "> **NOTE** Contrairement à des librairies comme Tensorflow où le graphe de calcul est statique, PyTorch recrée dynamique le graphe de calcul à chaque itération. Cela permet de modifier la structure du graphe dynamiquement avec du code Python. Par contre, cela rend la visualisation du graphe plus difficile.\n",
        "\n",
        "\n",
        "On indique les tenseurs qu'on veut dériver avec `requires_grad=True` (par défaut à False) lors de l'initialisation,"
      ]
    },
    {
      "cell_type": "code",
      "execution_count": null,
      "metadata": {
        "id": "yDZWTOjCiGmp"
      },
      "outputs": [],
      "source": [
        "x = torch.tensor(3., requires_grad=True)"
      ]
    },
    {
      "cell_type": "markdown",
      "metadata": {
        "id": "bUJIRdnyiGmp"
      },
      "source": [
        "ou encore en modifiant l'attribut `requires_grad` d'un `Tensor` existant."
      ]
    },
    {
      "cell_type": "code",
      "execution_count": null,
      "metadata": {
        "id": "pfXUwbKPiGmp"
      },
      "outputs": [],
      "source": [
        "x.requires_grad = False\n",
        "print(x)\n",
        "x.requires_grad = True\n",
        "print(x)"
      ]
    },
    {
      "cell_type": "markdown",
      "metadata": {
        "id": "F0LpvHs4iGmp"
      },
      "source": [
        "Le graphe de calcul est alors bâti au fur et à mesure que des opérations mathématiques sont appliquées aux tenseurs."
      ]
    },
    {
      "cell_type": "code",
      "execution_count": null,
      "metadata": {
        "id": "DanW_FBSiGmq"
      },
      "outputs": [],
      "source": [
        "f = x ** 2"
      ]
    },
    {
      "cell_type": "markdown",
      "metadata": {
        "id": "ZzYkxAkAiGmq"
      },
      "source": [
        "Chaque `Tensor` résultant d'une opération comporte un attribut `grad_fn` qui réfère à la `Fonction` (opération) qui l'a créé. Dans notre exemple nous avons utilisé une fonction puissance, par conséquent `grad_fn` de $f$ réfère à `PowBackward` correspondant à la fonction à utiliser pour la backprop (`Backward`) associée à la fonction puissance (`Pow` pour Power)."
      ]
    },
    {
      "cell_type": "code",
      "execution_count": null,
      "metadata": {
        "id": "kUUGOYasiGmq"
      },
      "outputs": [],
      "source": [
        "f"
      ]
    },
    {
      "cell_type": "markdown",
      "metadata": {
        "id": "KRnsiDPTiGmq"
      },
      "source": [
        "On obtient un graphe acyclique qui encode l'historique de calcul comportant les `Tensor` avec `requires_grad=True` et les `Fonction` appliqués sur ceux-ci. En utilisant la fonction `make_vizualization_autograd` de deeplib, on peut visualiser ce graphe où les `Fonction` sont représentées par un rectangle gris avec la valeur de `grad_fn` et les `Tensor` aillant `requires_grad=True` par un rectangle bleu comportant l'identifiant *Var* ainsi que leur attribut `size`. Dans cet exemple, le rectangle bleu réfère au `Tensor` $x$."
      ]
    },
    {
      "cell_type": "code",
      "execution_count": null,
      "metadata": {
        "id": "pUFNYAn4iGmq"
      },
      "outputs": [],
      "source": [
        "make_vizualization_autograd(f)"
      ]
    },
    {
      "cell_type": "markdown",
      "metadata": {
        "id": "AZpXc8ntiGmq"
      },
      "source": [
        "À la fin des calculs, on appelle la fonction `backward()` qui parcourt le graphe de calcul en sens inverse et calcule le gradient de la fonction $f$ selon chacune des variables du graphe"
      ]
    },
    {
      "cell_type": "code",
      "execution_count": null,
      "metadata": {
        "id": "PJcmrqigiGmq"
      },
      "outputs": [],
      "source": [
        "f.backward()"
      ]
    },
    {
      "cell_type": "markdown",
      "metadata": {
        "id": "tORiGKWXiGmq"
      },
      "source": [
        "Après avoir exécuté la fonction backward(), l'attribut grad des tenseurs impliqués dans le calcul contient la valeur du gradient calculé au point courant. Ici, on aura la valeur :\n",
        "$$\\left[\\frac{\\partial f(x)}{\\partial x}\\right]_{x=3} = \\left[\\frac{\\partial x^2}{\\partial x}\\right]_{x=3} =\\big[\\,2\\,x\\,\\big]_{x=3} = 6$$"
      ]
    },
    {
      "cell_type": "code",
      "execution_count": null,
      "metadata": {
        "id": "Ora8V4qniGmr"
      },
      "outputs": [],
      "source": [
        "x.grad"
      ]
    },
    {
      "cell_type": "markdown",
      "metadata": {
        "id": "J1BZeI71iGmr"
      },
      "source": [
        "À noter, les opérations in-place, c'est-à-dire les opérations qui font une mutation directe d'un ```Tensor``` (et qui se terminent par un underscore), ne sont pas disponibles lorsque ```requires_grad``` est égal à ```True```. Ainsi, l'exécution de la prochaine cellule soulève une erreur:"
      ]
    },
    {
      "cell_type": "code",
      "execution_count": null,
      "metadata": {
        "id": "4LTpKmaqiGmr"
      },
      "outputs": [],
      "source": [
        "x.uniform_()"
      ]
    },
    {
      "cell_type": "markdown",
      "metadata": {
        "id": "ptPSN4-eiGmr"
      },
      "source": [
        "Également, on ne peut pas directement convertir un `Tensor` qui a `requires_grad=True` vers `numpy`, l'exécution de la prochaine cellule soulève donc une erreur:"
      ]
    },
    {
      "cell_type": "code",
      "execution_count": null,
      "metadata": {
        "id": "sYiDBptiiGmr"
      },
      "outputs": [],
      "source": [
        "x.numpy()"
      ]
    },
    {
      "cell_type": "markdown",
      "metadata": {
        "id": "vBtDZ9W3iGmv"
      },
      "source": [
        "Il faut d'abord utiliser la fonction `detach()` qui détache sa valeur de l'accumulation de l'historique de calcul."
      ]
    },
    {
      "cell_type": "code",
      "execution_count": null,
      "metadata": {
        "id": "Zj8Tu8pOiGmv"
      },
      "outputs": [],
      "source": [
        "x.detach().numpy()"
      ]
    },
    {
      "cell_type": "markdown",
      "metadata": {
        "id": "KE2RYxdviGmw"
      },
      "source": [
        "Voyons maintenant un exemple plus complexe en effectuant des opérations sur 3 `Tensor` de dimension $2 \\times 2$: $x$, $y$ et $z$. On met `requires_grad=True` seulement pour $y$ et $z$ et on effectue des opérations résultant dans le `Tensor` $f$."
      ]
    },
    {
      "cell_type": "code",
      "execution_count": null,
      "metadata": {
        "id": "AY5kLKEFiGmw"
      },
      "outputs": [],
      "source": [
        "x = torch.Tensor(2, 2).uniform_(-1, 1)\n",
        "x.requires_grad = False\n",
        "print(\"x:\\n\", x)\n",
        "\n",
        "y = torch.Tensor(2, 2).uniform_(-1, 1)\n",
        "y.requires_grad = True\n",
        "print(\"y:\\n\", y)\n",
        "\n",
        "z = torch.Tensor(2, 2).uniform_(-1, 1)\n",
        "z.requires_grad = True\n",
        "print(\"z:\\n\", z)\n",
        "\n",
        "f = torch.matmul(x, y) + x + y + z\n",
        "print(\"f:\\n\", f)"
      ]
    },
    {
      "cell_type": "markdown",
      "metadata": {
        "id": "n8ETVO7diGmw"
      },
      "source": [
        "Visualisons le graphe de calcul construit par ces opérations:"
      ]
    },
    {
      "cell_type": "code",
      "execution_count": null,
      "metadata": {
        "id": "BtnyvJtqiGmw"
      },
      "outputs": [],
      "source": [
        "make_vizualization_autograd(f)"
      ]
    },
    {
      "cell_type": "markdown",
      "metadata": {
        "id": "3llbUkNfiGmw"
      },
      "source": [
        "#### Questions\n",
        "- En considérant que `Add` réfère à une addition matricielle et `Mm` à une multiplication matricielle, associez chaque rectangle bleu du graphe au `Tensor` ($x$, $y$ ou $z$) correspondant.\n",
        "\n",
        "- Que devient le graphe si on change `x.requires_grad=True`? Effectuez le changement dans le code pour confirmer votre réponse."
      ]
    },
    {
      "cell_type": "markdown",
      "metadata": {
        "id": "pdCiYpDXiGmw"
      },
      "source": [
        "Effectuons maintenant la backprop du gradient. Au départ les attributs `grad` des `Tensor` sont vides."
      ]
    },
    {
      "cell_type": "code",
      "execution_count": null,
      "metadata": {
        "id": "RqSIiKW9iGmw"
      },
      "outputs": [],
      "source": [
        "print(x.grad)\n",
        "print(y.grad)\n",
        "print(z.grad)"
      ]
    },
    {
      "cell_type": "markdown",
      "metadata": {
        "id": "6OgPFLMsiGmw"
      },
      "source": [
        "On appele la fonction `backward`."
      ]
    },
    {
      "cell_type": "code",
      "execution_count": null,
      "metadata": {
        "id": "UXFegzsgiGmw"
      },
      "outputs": [],
      "source": [
        "f.backward(torch.ones(f.size()))"
      ]
    },
    {
      "cell_type": "markdown",
      "metadata": {
        "id": "zQX5_19PiGmw"
      },
      "source": [
        "Et on obtient des valeurs de gradients pour les `Tensor` qui avaient `requires_grad=True`, par conséquent `x.grad` devrait toujours être vide."
      ]
    },
    {
      "cell_type": "code",
      "execution_count": null,
      "metadata": {
        "scrolled": true,
        "id": "8u_4YjnLiGmw"
      },
      "outputs": [],
      "source": [
        "print(x.grad)\n",
        "print(y.grad)\n",
        "print(z.grad)"
      ]
    },
    {
      "cell_type": "markdown",
      "metadata": {
        "id": "CflZr8nDiGmw"
      },
      "source": [
        "#### Questions\n",
        "- Exécutez deux fois la cellule qui appelle la fonction .backward(). Qu'arrive-t-il? Pourquoi?\n",
        "\n",
        "- Quel `Tensor` auraient requires_grad=False dans le contexte d'entraînement de réseaux de neurones?"
      ]
    },
    {
      "cell_type": "markdown",
      "metadata": {
        "id": "QxhYjBVDiGmx"
      },
      "source": [
        "Il est possible de prévenir l'enregistrement de l'historique de calcul d'opérations effectuées sur des `Tensor` aillant `requires_grad=True` en utilisant un bloc de code avec `with torch.no_grad()`:"
      ]
    },
    {
      "cell_type": "code",
      "execution_count": null,
      "metadata": {
        "id": "lc_Pg42UiGmx"
      },
      "outputs": [],
      "source": [
        "print((y + z).requires_grad)\n",
        "\n",
        "with torch.no_grad():\n",
        "    print((y + z).requires_grad)"
      ]
    },
    {
      "cell_type": "markdown",
      "metadata": {
        "id": "gCvS8d0ZiGmx"
      },
      "source": [
        "#### Exercice\n",
        "- Faites la mise à jour des valeurs de y et z et soustrayant leur gradient multiplié par $1 \\times 10^{-3}$  sans créer un nouveau graphe de calcul lors de l'opération. Notez que si le tenseur résultant a un attribut `grad_fn`, un graphe de calcul a été créé."
      ]
    },
    {
      "cell_type": "code",
      "execution_count": null,
      "metadata": {
        "id": "RTcuht_IiGmx"
      },
      "outputs": [],
      "source": [
        "y = torch.randn((2, 2), requires_grad=True)\n",
        "z = torch.randn((2, 2), requires_grad=True)\n",
        "\n",
        "f = torch.matmul(y, z)\n",
        "f.backward(torch.ones(f.size()))\n",
        "\n",
        "# TODO Mise à jour de y et z"
      ]
    },
    {
      "cell_type": "markdown",
      "metadata": {
        "id": "bth6p8GGiGmx"
      },
      "source": [
        "#### Question\n",
        "- Dans le contexte des réseaux de neurones, dans quelle situation voudrait-on ne calculer aucun gradient d'un graphe de calcul?"
      ]
    },
    {
      "cell_type": "markdown",
      "metadata": {
        "id": "WwhZmM-9iGmx"
      },
      "source": [
        "### Descente du gradient: un aperçu\n",
        "Considérons une fonction simple en une dimension:\n",
        "$$ f(x) = x^2 - x + 2 $$"
      ]
    },
    {
      "cell_type": "code",
      "execution_count": 4,
      "metadata": {
        "id": "92YtTl8QiGmx"
      },
      "outputs": [],
      "source": [
        "def fonction_simple(x):\n",
        "    return x**2 - x + 2"
      ]
    },
    {
      "cell_type": "markdown",
      "metadata": {
        "id": "Dp4YsMDyiGmx"
      },
      "source": [
        "On peut visualiser cette fonction convexe qui possède un minimum global en $x = 0.5$"
      ]
    },
    {
      "cell_type": "code",
      "execution_count": 5,
      "metadata": {
        "id": "G3I83GWZiGmx",
        "outputId": "9bf13691-8dde-4761-ec70-0cbb5c51d611",
        "colab": {
          "base_uri": "https://localhost:8080/",
          "height": 487
        }
      },
      "outputs": [
        {
          "output_type": "display_data",
          "data": {
            "text/plain": [
              "<Figure size 640x480 with 1 Axes>"
            ],
            "image/png": "[encoded data removed]"
          },
          "metadata": {}
        }
      ],
      "source": [
        "x_range = np.linspace(-2, 3)\n",
        "plt.plot(x_range, fonction_simple(x_range) )\n",
        "plt.scatter(.5, fonction_simple(.5), s=150, marker='*', c='r')\n",
        "plt.ylim(0, 6)\n",
        "plt.tight_layout()\n",
        "plt.show()"
      ]
    },
    {
      "cell_type": "markdown",
      "metadata": {
        "id": "jJ7R6HfIiGmx"
      },
      "source": [
        "Nous allons tenter de trouver ce minimum global en partant avec $x = -2$ par la méthode de descente du gradient (vu en détails au prochain cours) en utilisant la dérivation automatique de PyTorch. À chaque itération, la fonction est évaluée au paramètre $x$, le gradient est obtenu en appelant `backward`, puis la valeur du paramètre `x` est mise à jour selon la direction pointée par le gradient et un certain pas (0.25 dans cet exemple)."
      ]
    },
    {
      "cell_type": "markdown",
      "metadata": {
        "id": "3AOdMj6fiGmy"
      },
      "source": [
        "#### Exercice\n",
        "- Dans son état actuel, le code ne permet pas de converger vers le minimum global. Une étape est manquante dans la boucle de descente du gradient concernant le graphe de calcul. Ajoutez la ligne manquante et confirmez que le paramètre $x$ converge bien vers le minimum global. **Indice: observez les valeurs de f'(x) au fil des itérations. Est-ce que les valeurs correspondent aux gradients attendus?**."
      ]
    },
    {
      "cell_type": "code",
      "execution_count": 6,
      "metadata": {
        "id": "rQAbpQVIiGmy",
        "outputId": "92934cef-d643-4c54-90fe-809ecc51ea48",
        "colab": {
          "base_uri": "https://localhost:8080/",
          "height": 604
        }
      },
      "outputs": [
        {
          "output_type": "stream",
          "name": "stdout",
          "text": [
            "Iteration 01:  x =-2.00000  f(x) = 8.00000  f'(x) =-5.00000\n",
            "Iteration 02:  x =-0.75000  f(x) = 3.31250  f'(x) =-2.50000\n",
            "Iteration 03:  x =-0.12500  f(x) = 2.14062  f'(x) =-1.25000\n",
            "Iteration 04:  x = 0.18750  f(x) = 1.84766  f'(x) =-0.62500\n",
            "Iteration 05:  x = 0.34375  f(x) = 1.77441  f'(x) =-0.31250\n",
            "Iteration 06:  x = 0.42188  f(x) = 1.75610  f'(x) =-0.15625\n",
            "Iteration 07:  x = 0.46094  f(x) = 1.75153  f'(x) =-0.07812\n",
            "Iteration 08:  x = 0.48047  f(x) = 1.75038  f'(x) =-0.03906\n",
            "Iteration 09:  x = 0.49023  f(x) = 1.75010  f'(x) =-0.01953\n",
            "Iteration 10:  x = 0.49512  f(x) = 1.75002  f'(x) =-0.00977\n"
          ]
        },
        {
          "output_type": "display_data",
          "data": {
            "text/plain": [
              "<Figure size 640x480 with 1 Axes>"
            ],
            "image/png": "[encoded data removed]"
          },
          "metadata": {}
        }
      ],
      "source": [
        "# Nombre d'itérations\n",
        "T = 10\n",
        "\n",
        "# Initialisation\n",
        "x = torch.Tensor([-2])\n",
        "x.requires_grad = True\n",
        "list_x, list_values = [], []\n",
        "\n",
        "# Boucle de descente du gradient\n",
        "for t in range(T):\n",
        "\n",
        "    # Calcul de la fonction objectif\n",
        "    val = fonction_simple(x)\n",
        "\n",
        "    # Enregistrement des valeurs pour visualisation\n",
        "    list_x.append(np.array(x.detach()))\n",
        "    list_values.append(val.detach())\n",
        "\n",
        "    # Calcul des gradients\n",
        "    val.backward()\n",
        "\n",
        "    print(f\"Iteration {t+1:02}:\",\n",
        "          f\" x ={x.item(): .5f}\",\n",
        "          f\" f(x) ={val.item(): .5f}\",\n",
        "          f\" f\\'(x) ={x.grad.item(): .5f}\")\n",
        "\n",
        "    # Mise à jour du paramètre x\n",
        "    with torch.no_grad():\n",
        "        x -= 0.25 * x.grad\n",
        "\n",
        "    # TODO Ajoutez l'étape manquante\n",
        "    x.grad.zero_()\n",
        "\n",
        "plt.plot(x_range, fonction_simple(x_range))\n",
        "plt.plot(list_x, list_values, linestyle='dashed', marker='o', color='green')\n",
        "plt.scatter(.5, fonction_simple(.5), s=150, marker='*', c='r')\n",
        "plt.show()"
      ]
    },
    {
      "cell_type": "markdown",
      "metadata": {
        "id": "CPkx_laPiGmy"
      },
      "source": [
        "## Partie 2: Fonctions d'activation\n",
        "\n",
        "La section suivante a pour but d'explorer les différences entre les fonctions d'activation ReLU et Tanh.\n",
        "\n",
        "#### Question préalable\n",
        "- À quoi sert la fonction d'activation? Sans elle, que devient un réseau multi-couches?\n",
        "\n",
        "### Visualisation du dataset\n",
        "Pour cette partie, nous utiliserons le dataset binaire des spirales. Chaque exemple est représenté par un vecteur de dimension 7: $[x, y, x^2, y^2, x*y, \\sin(x), \\sin(y)]$, où les deux premières valeurs correspondent aux coordonnées dans un espace en deux dimensions présenté par le graphique suivant, et les autres valeurs sont des transformations sur les deux premières. Vous pouvez voir le code qui a servi à générer le dataset dans la librairie https://github.com/ulaval-damas/glo4030-labs/blob/master/deeplib/datasets.py"
      ]
    },
    {
      "cell_type": "code",
      "execution_count": 7,
      "metadata": {
        "id": "1__QkEmSiGmy",
        "outputId": "cde60c47-7794-41b5-db41-694a0888e14e",
        "colab": {
          "base_uri": "https://localhost:8080/",
          "height": 430
        }
      },
      "outputs": [
        {
          "output_type": "display_data",
          "data": {
            "text/plain": [
              "<Figure size 640x480 with 1 Axes>"
            ],
            "image/png": "[encoded data removed]"
          },
          "metadata": {}
        }
      ],
      "source": [
        "from deeplib.datasets import SpiralDataset, train_valid_loaders\n",
        "import random\n",
        "\n",
        "random.seed(42)\n",
        "dataset = SpiralDataset()\n",
        "points, labels = dataset.to_numpy()\n",
        "plt.scatter(points[labels==1,0], points[labels==1,1])\n",
        "plt.scatter(points[labels==0,0], points[labels==0,1])\n",
        "plt.show()"
      ]
    },
    {
      "cell_type": "markdown",
      "metadata": {
        "id": "Q1s6QeYeiGmy"
      },
      "source": [
        "### Création de modèles\n",
        "\n",
        "Ici, on crée des classes qui héritent de `torch.nn.Module`. C'est la classe de base de tout réseau dans PyTorch. `Module` comporte par exemple la méthode `named_parameters()` qui permet d'obtenir toutes les variables entraînables du `Module` ainsi que leur nom. Voici un lien vers la documentation complète:\n",
        "http://pytorch.org/docs/stable/nn.html#torch.nn.Module.\n",
        "\n",
        "#### Exercice\n",
        "- Complétez la fonction forward de TanhModel et ReluModel en appliquant à chaque couche la transformation linéaire ([Indice](https://pytorch.org/docs/stable/generated/torch.nn.Linear.html#torch.nn.Linear)) suivie de la fonction activation ([Indice](https://pytorch.org/docs/stable/generated/torch.tanh.html?highlight=tanh#torch.tanh)).\n"
      ]
    },
    {
      "cell_type": "code",
      "execution_count": 8,
      "metadata": {
        "id": "y_X5XnULiGmy"
      },
      "outputs": [],
      "source": [
        "class RandomModel(torch.nn.Module):\n",
        "\n",
        "    def __init__(self, n_layers, init_gaussian_mean):\n",
        "        super().__init__()\n",
        "        # Le modèle Tanh et ReLU vont être initialisé avec les mêmes matrices aléatoires\n",
        "        torch.manual_seed(42)\n",
        "\n",
        "        # Initialisation des couches\n",
        "        self.layers = []\n",
        "        for i in range(n_layers):\n",
        "            layer = nn.Linear(7,7)\n",
        "            layer.weight.data.normal_(init_gaussian_mean, math.sqrt(2 / 7))\n",
        "            layer.bias.data.fill_(0)\n",
        "            self.layers.append(layer)\n",
        "            self.add_module('layer-%d' % i, layer)\n",
        "        self.output_layer = nn.Linear(7,2)\n",
        "\n",
        "        self.nonzero_grad_stats = None\n",
        "\n",
        "    def forward(self):\n",
        "        raise NotImplementedError('Defined in children classes')\n",
        "\n",
        "    def _forward_output_layer(self, x):\n",
        "        # Couche de sortie avec une neurone par classe\n",
        "        out = self.output_layer(x)\n",
        "        out = F.log_softmax(out, dim=1)\n",
        "        return out\n",
        "\n",
        "    def compute_gradients_stats(self):\n",
        "        self.nonzero_grad_stats = []\n",
        "\n",
        "        # Calcul pour chaque couche du nombre de poids avec un gradient non nul\n",
        "        # ainsi que la moyenne de ces derniers.\n",
        "        for i, layer in enumerate(self.layers):\n",
        "            if layer.weight.grad is not None:\n",
        "                nonzero_grad_indices = torch.nonzero(layer.weight.grad)\n",
        "                nonzero_grad = [layer.weight.grad.data[i,j] for (i,j) in nonzero_grad_indices]\n",
        "                nonzero_grad_mean = np.mean(np.abs(nonzero_grad)) if nonzero_grad else 0\n",
        "                self.nonzero_grad_stats.append((len(nonzero_grad), nonzero_grad_mean))\n",
        "\n",
        "class RandomTanhModel(RandomModel):\n",
        "\n",
        "    def __init__(self, n_layers, init_gaussian_mean=0.0):\n",
        "        super().__init__(n_layers, init_gaussian_mean)\n",
        "\n",
        "    def forward(self, x):\n",
        "        out = x\n",
        "        for layer in self.layers:\n",
        "            # TODO\n",
        "            out = torch.tanh(layer(out))\n",
        "\n",
        "        return self._forward_output_layer(out)\n",
        "\n",
        "class RandomReluModel(RandomModel):\n",
        "\n",
        "    def __init__(self, n_layers, init_gaussian_mean=0.0):\n",
        "        super().__init__(n_layers, init_gaussian_mean)\n",
        "\n",
        "    def forward(self, x):\n",
        "        out = x\n",
        "        for layer in self.layers:\n",
        "            # TODO\n",
        "            out = torch.relu(layer(out))\n",
        "        return self._forward_output_layer(out)"
      ]
    },
    {
      "cell_type": "markdown",
      "metadata": {
        "id": "g-sOzMVGiGmy"
      },
      "source": [
        "### Analyse du modèle"
      ]
    },
    {
      "cell_type": "code",
      "execution_count": 11,
      "metadata": {
        "id": "r8NPGdEPiGmy"
      },
      "outputs": [],
      "source": [
        "# Dataloaders\n",
        "train_loader, valid_loader = train_valid_loaders(dataset, 50)\n",
        "\n",
        "# Paramètres\n",
        "init_gaussian_mean = 1\n",
        "n_layers = 10\n",
        "\n",
        "# Modèles\n",
        "relu_model = RandomReluModel(n_layers, init_gaussian_mean)\n",
        "tanh_model = RandomTanhModel(n_layers, init_gaussian_mean)\n",
        "\n",
        "# Forward pass\n",
        "data, labels = next(iter(train_loader))\n",
        "relu_output = relu_model(data)\n",
        "tanh_output = tanh_model(data)\n",
        "\n",
        "# Calcul de la perte\n",
        "loss = torch.nn.NLLLoss()\n",
        "relu_loss = loss(relu_output, labels)\n",
        "tanh_loss = loss(tanh_output, labels)\n",
        "\n",
        "# Backward\n",
        "relu_loss.backward()\n",
        "tanh_loss.backward()\n",
        "\n",
        "# Calcul des statistiques des gradients\n",
        "relu_model.compute_gradients_stats()\n",
        "tanh_model.compute_gradients_stats()"
      ]
    },
    {
      "cell_type": "markdown",
      "metadata": {
        "id": "9RI2oLKqiGmy"
      },
      "source": [
        "Le graphique suivant représente en fonction du numéro de la couche à gauche la quantité de poids qui ont un gradient nul lors de la backprop, et à droite le gradient moyen sans tenir compte des gradients nuls."
      ]
    },
    {
      "cell_type": "code",
      "execution_count": 12,
      "metadata": {
        "id": "IeFgHxM8iGmz",
        "outputId": "dca92e5b-a01c-4058-ff5d-af4c7e300816",
        "colab": {
          "base_uri": "https://localhost:8080/",
          "height": 252
        }
      },
      "outputs": [
        {
          "output_type": "display_data",
          "data": {
            "text/plain": [
              "<Figure size 1400x400 with 2 Axes>"
            ],
            "image/png": "[encoded data removed]"
          },
          "metadata": {}
        }
      ],
      "source": [
        "fig, axs = plt.subplots(1, 2, figsize=(14,4))\n",
        "axs[0].plot(np.arange(len(relu_model.nonzero_grad_stats)), [x[0] for x in relu_model.nonzero_grad_stats], label='ReLU')\n",
        "axs[0].plot(np.arange(len(tanh_model.nonzero_grad_stats)), [x[0] for x in tanh_model.nonzero_grad_stats], label='Tanh')\n",
        "axs[0].set_ylim([-1, 50])\n",
        "axs[0].set_xlabel('Index de la couche')\n",
        "axs[0].set_ylabel('Nombre de poids avec un gradient non nul')\n",
        "axs[1].plot(np.arange(len(relu_model.nonzero_grad_stats)), [x[1] / x[0] if x[0] else 0 for x in relu_model.nonzero_grad_stats],label='ReLU')\n",
        "axs[1].plot(np.arange(len(tanh_model.nonzero_grad_stats)), [x[1] / x[0] if x[0] else 0 for x in tanh_model.nonzero_grad_stats],label='Tanh')\n",
        "axs[1].set_xlabel('Index de la couche')\n",
        "axs[1].set_ylabel('Gradient moyen des gradients non nuls')\n",
        "axs[1].legend()\n",
        "plt.tight_layout()\n",
        "plt.show()"
      ]
    },
    {
      "cell_type": "markdown",
      "metadata": {
        "id": "IP7NXBSTiGmz"
      },
      "source": [
        "#### Questions\n",
        "- Observez la distribution du gradient lors de la backprop. Quelles différences y a-t-il entre l'utilisation des activations ReLU versus Tanh?\n",
        "\n",
        "- Suite à ces observations, identifiez un problème avec la Relu et identifiez un problème avec la Tanh.\n",
        "\n",
        "- Changez la moyenne de la gaussienne des poids lors de l'initialisation (le paramètre *init_gaussian_mean*). Qu'observez-vous?\n",
        "\n",
        "- Est-ce que, pour deux entrées différentes, les mêmes poids ont un gradient nul?"
      ]
    },
    {
      "cell_type": "markdown",
      "metadata": {
        "id": "6vN28olYiGmz"
      },
      "source": [
        "### Entraînement\n",
        "Pour terminer, on entraîne les deux modèles avec des fonctions d'activation différentes sur le dataset des spirales."
      ]
    },
    {
      "cell_type": "code",
      "execution_count": 13,
      "metadata": {
        "id": "NxUR1YMMiGmz",
        "outputId": "3fefd276-5441-485f-db85-4d91085c7014",
        "colab": {
          "base_uri": "https://localhost:8080/"
        }
      },
      "outputs": [
        {
          "output_type": "stream",
          "name": "stdout",
          "text": [
            "Epoch 100 done.\n",
            "Epoch 200 done.\n",
            "Epoch 300 done.\n",
            "Epoch 400 done.\n",
            "Epoch 500 done.\n"
          ]
        }
      ],
      "source": [
        "from torch.optim import SGD\n",
        "\n",
        "init_gaussian_mean = 0\n",
        "n_layers = 10\n",
        "n_epoch = 500\n",
        "relu_losses = []\n",
        "tanh_losses = []\n",
        "\n",
        "relu_model = RandomReluModel(n_layers, init_gaussian_mean)\n",
        "tanh_model = RandomTanhModel(n_layers, init_gaussian_mean)\n",
        "\n",
        "if torch.cuda.is_available():\n",
        "    relu_model.cuda()\n",
        "    tanh_model.cuda()\n",
        "\n",
        "relu_optimizer = SGD(relu_model.parameters(), lr=0.01, momentum=0.9, nesterov=True)\n",
        "tanh_optimizer = SGD(tanh_model.parameters(), lr=0.01, momentum=0.9, nesterov=True)\n",
        "\n",
        "for epoch in range(1, n_epoch + 1):\n",
        "    if epoch % 100 == 0:\n",
        "        print(\"Epoch %d done.\" % epoch)\n",
        "    relu_epoch_losses = []\n",
        "    tanh_epoch_losses = []\n",
        "    for data, labels in train_loader:\n",
        "        relu_optimizer.zero_grad()\n",
        "        tanh_optimizer.zero_grad()\n",
        "\n",
        "        if torch.cuda.is_available():\n",
        "            data = data.cuda()\n",
        "            labels = labels.cuda()\n",
        "\n",
        "        relu_loss = loss(relu_model(data), labels)\n",
        "        tanh_loss = loss(tanh_model(data), labels)\n",
        "\n",
        "        relu_loss.backward()\n",
        "        tanh_loss.backward()\n",
        "\n",
        "        relu_epoch_losses.append(float(relu_loss.cpu()))\n",
        "        tanh_epoch_losses.append(float(tanh_loss.cpu()))\n",
        "\n",
        "        relu_optimizer.step()\n",
        "        tanh_optimizer.step()\n",
        "    relu_losses.append(np.mean(np.asarray(relu_epoch_losses)))\n",
        "    tanh_losses.append(np.mean(np.asarray(tanh_epoch_losses)))"
      ]
    },
    {
      "cell_type": "code",
      "execution_count": 14,
      "metadata": {
        "id": "_e4e5YV7iGmz",
        "outputId": "86fee368-f561-4762-a7b6-76278fb7b22d",
        "colab": {
          "base_uri": "https://localhost:8080/",
          "height": 290
        }
      },
      "outputs": [
        {
          "output_type": "display_data",
          "data": {
            "text/plain": [
              "<Figure size 1400x400 with 2 Axes>"
            ],
            "image/png": "[encoded data removed]"
          },
          "metadata": {}
        }
      ],
      "source": [
        "fig, axs = plt.subplots(1, 2, figsize=(14,4))\n",
        "axs[0].plot(np.arange(len(relu_losses)), np.asarray(relu_losses),label='ReLU', color='tab:blue')\n",
        "axs[1].plot(np.arange(len(tanh_losses)), np.asarray(tanh_losses),label='Tanh', color='tab:orange')\n",
        "for i in range(2):\n",
        "    axs[i].set_xlabel('Epoch')\n",
        "    axs[i].set_ylabel('Loss')\n",
        "    axs[i].set_ylim(0, 1)\n",
        "    axs[i].legend()\n",
        "plt.show()"
      ]
    },
    {
      "cell_type": "markdown",
      "metadata": {
        "id": "BCS3nJk3iGmz"
      },
      "source": [
        "## Perte d'entropie croisée (Cross-entropy loss) dans PyTorch\n",
        "\n",
        "**Important à savoir lorsqu'on utilise PyTorch pour un problème de classification**: Dans un contexte de tâche de classification, il est d'usage de transformer les sorties réelles d'un réseau de neurones en une distribution de probabilité sur les classes grâce à la fonction [Softmax](https://pytorch.org/docs/master/generated/torch.nn.Softmax.html?#torch.nn.Softmax). Cette distribution peut ensuite être utilisée pour prédire le ou les classes les plus probables selon la donnée en entrée.\n",
        "\n",
        "Voici un exemple de l'utilisation de la fonction ``F.softmax``, vous pouvez modifier les valeurs de sorties pour voir l'impact sur la distribution de probabilité résultante."
      ]
    },
    {
      "cell_type": "code",
      "execution_count": 15,
      "metadata": {
        "id": "QpOWyd5riGmz",
        "outputId": "09bebfb3-f72f-4453-96f5-93178b378f65",
        "colab": {
          "base_uri": "https://localhost:8080/"
        }
      },
      "outputs": [
        {
          "output_type": "execute_result",
          "data": {
            "text/plain": [
              "tensor([0.5585, 0.4137, 0.0278])"
            ]
          },
          "metadata": {},
          "execution_count": 15
        }
      ],
      "source": [
        "sorties = torch.tensor([1.7, 1.4, -1.3])\n",
        "F.softmax(sorties, dim=-1)"
      ]
    },
    {
      "cell_type": "markdown",
      "metadata": {
        "id": "4wgRpfCXiGmz"
      },
      "source": [
        "Afin d'entraîner un réseau de neurones pour une tâche de classification, on utilise habituellement la fonction de perte d'entropie croisée  [CrossEntropyLoss](https://pytorch.org/docs/master/generated/torch.nn.CrossEntropyLoss.html?#torch.nn.CrossEntropyLoss) qui combine la fonction de [LogSoftmax](https://pytorch.org/docs/master/generated/torch.nn.LogSoftmax.html?#torch.nn.LogSoftmax) avec la fonction de perte *negative log likelihood* [NLLLoss](https://pytorch.org/docs/master/generated/torch.nn.NLLLoss.html?#torch.nn.NLLLoss). La fonction [LogSoftmax](https://pytorch.org/docs/master/generated/torch.nn.LogSoftmax.html?#torch.nn.LogSoftmax) est utilisée au lieu de la fonction [Softmax](https://pytorch.org/docs/master/generated/torch.nn.Softmax.html?#torch.nn.Softmax) pour des raisons de stabilité numérique et de rapidité de calcul.\n",
        "\n",
        "Pour l'entraînement du modèle plus haut dans ce laboratoire, la fonction de perte d'entropie croisée a été calculée en deux étapes avec ``F.log_softmax`` dans la fonction ``_forward_output_layer(x)`` du ``RandomModel``, suivie du calcul de la perte selon les étiquettes avec la fonction ``loss`` définie par ``torch.nn.NLLLoss()``.\n",
        "\n",
        "Pour utiliser directement ``torch.nn.CrossEntropyLoss()``, le modèle devrait retourner simplement les valeurs réelles de sortie sans appliquer de fonction ``Softmax`` ou ``LogSoftmax``. Le résultat de perte est identique dans les deux cas comme le démontre la prochaine cellule:"
      ]
    },
    {
      "cell_type": "code",
      "execution_count": 16,
      "metadata": {
        "id": "v-k6eWAsiGm0",
        "outputId": "06e0922a-15ec-4d23-8765-7bda65a1f16d",
        "colab": {
          "base_uri": "https://localhost:8080/"
        }
      },
      "outputs": [
        {
          "output_type": "stream",
          "name": "stdout",
          "text": [
            "Perte avec CrossEntropyLoss: 0.993\n",
            "Perte avec LogSoftmax et NLLLoss: 0.993\n"
          ]
        }
      ],
      "source": [
        "# Scores d'un réseau de neurones pour 2 exemples d'une tâche à 3 classes avec les étiquettes correspondantes\n",
        "scores = torch.tensor([[1.7, 1.4, -1.3], [0.4, 1.8, 0.9]])\n",
        "labels = torch.tensor([0, 2])\n",
        "\n",
        "# CrossEntropyLoss\n",
        "loss = torch.nn.CrossEntropyLoss()\n",
        "print(f\"Perte avec CrossEntropyLoss: {loss(scores, labels):.3f}\")\n",
        "\n",
        "# LogSoftmax et NLLLoss\n",
        "loss = torch.nn.NLLLoss()\n",
        "print(f\"Perte avec LogSoftmax et NLLLoss: {loss(F.log_softmax(scores, dim=1), labels):.3f}\")"
      ]
    },
    {
      "cell_type": "markdown",
      "metadata": {
        "id": "g3MCST_oiGm0"
      },
      "source": [
        "Dans la librairie deeplib écrite spécialement pour les laboratoires, la fonction ``deeplib.training.train()`` utilise par défaut ``torch.nn.CrossEntropyLoss()``. Par conséquent, les modèles doivent simplement retourner les sorties réelles du réseau de neurones pour pouvoir s'entraîner correctement avec cette fonction ``train()``."
      ]
    }
  ],
  "metadata": {
    "accelerator": "GPU",
    "kernelspec": {
      "display_name": "Python 3",
      "language": "python",
      "name": "python3"
    },
    "language_info": {
      "codemirror_mode": {
        "name": "ipython",
        "version": 3
      },
      "file_extension": ".py",
      "mimetype": "text/x-python",
      "name": "python",
      "nbconvert_exporter": "python",
      "pygments_lexer": "ipython3",
      "version": "3.6.9"
    },
    "colab": {
      "provenance": []
    }
  },
  "nbformat": 4,
  "nbformat_minor": 0
}